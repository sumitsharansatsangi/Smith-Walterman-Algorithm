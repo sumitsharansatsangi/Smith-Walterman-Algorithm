{
 "cells": [
  {
   "cell_type": "code",
   "execution_count": 1,
   "metadata": {},
   "outputs": [],
   "source": [
    "from __future__ import division, print_function\n",
    "import numpy as np"
   ]
  },
  {
   "cell_type": "code",
   "execution_count": 2,
   "metadata": {},
   "outputs": [],
   "source": [
    "point ={'match': 2, 'mismatch': -1, 'gap': -1}"
   ]
  },
  {
   "cell_type": "code",
   "execution_count": 3,
   "metadata": {},
   "outputs": [],
   "source": [
    "def matching1(alpha, beta):\n",
    "    if alpha == beta:\n",
    "        return point['match']\n",
    "    elif alpha == '-' or beta == '-':\n",
    "        return point['gap']\n",
    "    else:\n",
    "        return point['mismatch']\n",
    "    "
   ]
  },
  {
   "cell_type": "code",
   "execution_count": 4,
   "metadata": {},
   "outputs": [],
   "source": [
    "def water(s1, s2):\n",
    "    m, n = len(s1), len(s2)\n",
    "    V = np.zeros((m+1, n+1))    \n",
    "    T = np.zeros((m+1, n+1))\n",
    "    max_score = 0\n",
    "    \n",
    "    for i in range(1, m + 1):\n",
    "        for j in range(1, n + 1):\n",
    "            sc_diag = V[i-1][j-1] + matching1(s1[i-1], s2[j-1])\n",
    "            sc_up = V[i][j-1] + point['gap']\n",
    "            sc_left = V[i-1][j] + point['gap']\n",
    "            V[i][j] = max(0,sc_left, sc_up, sc_diag)\n",
    "            if V[i][j] == 0: T[i][j] = 0\n",
    "            if V[i][j] == sc_left: T[i][j] = 1\n",
    "            if V[i][j] == sc_up: T[i][j] = 2\n",
    "            if V[i][j] == sc_diag: T[i][j] = 3\n",
    "            if V[i][j] >= max_score:\n",
    "                max_i = i\n",
    "                max_j = j\n",
    "                max_score = V[i][j];\n",
    "    \n",
    "    \n",
    "    print('V=\\n',V,'\\n')\n",
    "    print('T=\\n',T,'\\n')\n",
    "    align1, align2 = '', ''\n",
    "    i,j = max_i,max_j\n",
    "    \n",
    "    \n",
    "    while T[i][j] != 0:\n",
    "        if T[i][j] == 3:\n",
    "            a1 = s1[i-1]\n",
    "            a2 = s2[j-1]\n",
    "            i -= 1\n",
    "            j -= 1\n",
    "        elif T[i][j] == 2:\n",
    "            a1 = '-'\n",
    "            a2 = s2[j-1]\n",
    "            j -= 1\n",
    "        elif T[i][j] == 1:\n",
    "            a1 = s1[i-1]\n",
    "            a2 = '-'\n",
    "            i -= 1\n",
    "        print(a1,a2)\n",
    "        align1 += a1\n",
    "        align2 += a2\n",
    "        \n",
    "        \n",
    "\n",
    "    align1 = align1[::-1]\n",
    "    align2 = align2[::-1]\n",
    "    sym = ''\n",
    "    iden = 0\n",
    "    \n",
    "    \n",
    "    for i in range(len(align1)):\n",
    "        a1 = align1[i]\n",
    "        a2 = align2[i]\n",
    "        if a1 == a2:                \n",
    "            sym += a1\n",
    "            iden += 1\n",
    "        elif a1 != a2 and a1 != '-' and a2 != '-': \n",
    "            sym += ' '\n",
    "        elif a1 == '-' or a2 == '-':          \n",
    "            sym += ' '\n",
    "            \n",
    "            \n",
    "    \n",
    "    identity = iden / len(align1) * 100\n",
    "    print('Identity = %f percent' % identity)\n",
    "    print('Score =', max_score)\n",
    "    print(align1)\n",
    "    print(sym)\n",
    "    print(align2)"
   ]
  },
  {
   "cell_type": "code",
   "execution_count": 5,
   "metadata": {},
   "outputs": [
    {
     "name": "stdout",
     "output_type": "stream",
     "text": [
      "V=\n",
      " [[ 0.  0.  0.  0.  0.  0.  0.  0.  0.]\n",
      " [ 0.  2.  1.  2.  1.  2.  1.  0.  2.]\n",
      " [ 0.  1.  1.  1.  1.  1.  1.  0.  1.]\n",
      " [ 0.  0.  3.  2.  3.  2.  3.  2.  1.]\n",
      " [ 0.  2.  2.  5.  4.  5.  4.  3.  4.]\n",
      " [ 0.  1.  4.  4.  7.  6.  7.  6.  5.]\n",
      " [ 0.  2.  3.  6.  6.  9.  8.  7.  8.]\n",
      " [ 0.  1.  4.  5.  8.  8. 11. 10.  9.]\n",
      " [ 0.  2.  3.  6.  7. 10. 10. 10. 12.]] \n",
      "\n",
      "T=\n",
      " [[0. 0. 0. 0. 0. 0. 0. 0. 0.]\n",
      " [0. 3. 2. 3. 2. 3. 2. 2. 3.]\n",
      " [0. 1. 3. 1. 3. 1. 3. 3. 1.]\n",
      " [0. 1. 3. 2. 3. 2. 3. 2. 2.]\n",
      " [0. 3. 1. 3. 2. 3. 2. 2. 3.]\n",
      " [0. 1. 3. 1. 3. 2. 3. 2. 2.]\n",
      " [0. 3. 1. 3. 1. 3. 2. 2. 3.]\n",
      " [0. 1. 3. 1. 3. 1. 3. 2. 2.]\n",
      " [0. 3. 1. 3. 1. 3. 1. 3. 3.]] \n",
      "\n",
      "A A\n",
      "- T\n",
      "C C\n",
      "A A\n",
      "C C\n",
      "A A\n",
      "C C\n",
      "G -\n",
      "A A\n",
      "Identity = 77.777778 percent\n",
      "Score = 12.0\n",
      "AGCACAC-A\n",
      "A CACAC A\n",
      "A-CACACTA\n"
     ]
    }
   ],
   "source": [
    "water('AGCACACA','ACACACTA')"
   ]
  },
  {
   "cell_type": "code",
   "execution_count": null,
   "metadata": {},
   "outputs": [],
   "source": []
  },
  {
   "cell_type": "code",
   "execution_count": null,
   "metadata": {},
   "outputs": [],
   "source": []
  }
 ],
 "metadata": {
  "kernelspec": {
   "display_name": "Python 3",
   "language": "python",
   "name": "python3"
  },
  "language_info": {
   "codemirror_mode": {
    "name": "ipython",
    "version": 3
   },
   "file_extension": ".py",
   "mimetype": "text/x-python",
   "name": "python",
   "nbconvert_exporter": "python",
   "pygments_lexer": "ipython3",
   "version": "3.7.3"
  }
 },
 "nbformat": 4,
 "nbformat_minor": 2
}
